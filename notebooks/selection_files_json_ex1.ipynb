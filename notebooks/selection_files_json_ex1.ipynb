{
 "cells": [
  {
   "cell_type": "markdown",
   "metadata": {},
   "source": [
    "# Demo: selection file management based on json files\n",
    "\n",
    "*Motivation:*\n",
    "As discussed in RWT selection files originally were targeted at humans not at tools -\n",
    "yet when managing 100s-1000s of selection files for replication management a machine readable solution is necessary  \n",
    "\n",
    "*Proposal:*\n",
    "* use json as a machine readable serialization format for replica selections\n",
    "* use a json storage backend to easily query the various json entries\n",
    "* provide a selection file <--> json translation\n",
    "* use this then as a platform to generate on demand selection files for usage in synda"
   ]
  },
  {
   "cell_type": "code",
   "execution_count": 1,
   "metadata": {},
   "outputs": [],
   "source": [
    "# add manage_rep to module path such that notebook can run in cloned git repo\n",
    "# later: pip support\n",
    "import sys\n",
    "sys.path.append('../util')\n",
    "from manage_rep import man_selections\n",
    "from tinydb import TinyDB, Query"
   ]
  },
  {
   "cell_type": "markdown",
   "metadata": {},
   "source": [
    "### Example: load selection files and generate json files\n",
    "\n",
    "* Discussion points: \n",
    "   * a simple generic synda selection file parsing routine is needed \n",
    "      * the one in synda in tightly coupled into synda and thus not usefull by now\n",
    "      * 80% of synda selection file syntax is easily parsable by the python configparsers module (my approach taken here) \n",
    "      * eather we restrict our replica selections on this 80% synda syntax support or ...\n",
    "      * some modifications for synda selection files would be helpfull (will put this as github issues on synda)\n",
    "          * configparser analog for section specification\n",
    "          * json input support for synda\n",
    "          * ...\n",
    "      "
   ]
  },
  {
   "cell_type": "code",
   "execution_count": 2,
   "metadata": {},
   "outputs": [
    {
     "name": "stdout",
     "output_type": "stream",
     "text": [
      "reading:  ../selection_files/NCI/CMIP6_Bulk_Priority1.txt\n",
      "reading:  ../selection_files/NCI/CMIP6_Bulk_Priority2.txt\n",
      "reading:  ../selection_files/NCI/CMIP6_Bulk_Priority3.txt\n",
      "reading:  ../selection_files/NCI/CMIP6_Bulk_Priority4.txt\n",
      "reading:  ../selection_files/NCI/CMIP6_Bulk_Priority5.txt\n",
      "Writing:  ../selection_files/NCI/CMIP6_Bulk_Priority1.json\n",
      "Writing:  ../selection_files/NCI/CMIP6_Bulk_Priority2.json\n",
      "Writing:  ../selection_files/NCI/CMIP6_Bulk_Priority3.json\n",
      "Writing:  ../selection_files/NCI/CMIP6_Bulk_Priority4.json\n",
      "Writing:  ../selection_files/NCI/CMIP6_Bulk_Priority5.json\n"
     ]
    }
   ],
   "source": [
    "# all selection files were extended by one line (required section specifier for configparser)\n",
    "sel_path = '../selection_files/NCI/'\n",
    "json_path = sel_path  \n",
    "new_dict = man_selections.read_sel_files(sel_path)\n",
    "man_selections.write_json(new_dict,json_path)\n"
   ]
  },
  {
   "cell_type": "markdown",
   "metadata": {},
   "source": [
    "### Load json files in json database\n",
    "* simple in memory database should easily scale up to ths 1000s of json files we expect\n",
    "* if more complex use cases arise we can easily swith to e.g. MongoDB or CouchDB\n",
    "\n",
    "Discussion points: \n",
    "* it may be usefull to add additional key,value information pairs to better support of query\n",
    "(this additional is omitted for the synda selection file generation)\n",
    "* as an example I added \"replica_center\" as an additional key to assign selection files to a specific replica center\n",
    "  (see query below)"
   ]
  },
  {
   "cell_type": "code",
   "execution_count": 3,
   "metadata": {},
   "outputs": [],
   "source": [
    "db = TinyDB(\"./db.json\")\n",
    "for k,v in new_dict.items():\n",
    "    db.insert(v)"
   ]
  },
  {
   "cell_type": "markdown",
   "metadata": {},
   "source": [
    "### Query database and select parts needed\n",
    "\n",
    "* it is simple to select parts and define new aggregations based on database queries\n",
    "* for these newly aggregations then selection files can be generated or *better* synda is modified to accept json files in addition to selection files as input .."
   ]
  },
  {
   "cell_type": "code",
   "execution_count": 4,
   "metadata": {},
   "outputs": [],
   "source": [
    "test = Query()\n",
    "docs = db.search(test.repl_center == ['NCI'] and test.priority == ['5000'])"
   ]
  },
  {
   "cell_type": "code",
   "execution_count": 5,
   "metadata": {},
   "outputs": [
    {
     "name": "stdout",
     "output_type": "stream",
     "text": [
      "{'project': ['CMIP6'], 'variable': ['psl', 'tas', 'uas', 'vas', 'hus'], 'frequency': ['6hr'], 'experiment': ['1pctCO2', 'piControl', 'historical', 'amip', 'abrupt4xCO2', 'ssp585', 'ssp245'], 'ensemble': ['r1i1p1'], 'priority': ['5000'], 'repl_center': ['NCI']}\n"
     ]
    }
   ],
   "source": [
    "for doc in docs:\n",
    "    my_doc = doc\n",
    "    print(my_doc)"
   ]
  },
  {
   "cell_type": "markdown",
   "metadata": {},
   "source": [
    "### Generate selection files for the selected parts"
   ]
  },
  {
   "cell_type": "code",
   "execution_count": 6,
   "metadata": {},
   "outputs": [
    {
     "name": "stdout",
     "output_type": "stream",
     "text": [
      "#### Replica center: ['NCI'] \n",
      "project = CMIP6 \n",
      "variable = psl tas uas vas hus \n",
      "frequency = 6hr \n",
      "experiment = 1pctCO2 piControl historical amip abrupt4xCO2 ssp585 ssp245 \n",
      "ensemble = r1i1p1 \n",
      "priority = 5000 \n",
      "\n"
     ]
    }
   ],
   "source": [
    "print(man_selections.gen_sel(my_doc))"
   ]
  },
  {
   "cell_type": "code",
   "execution_count": null,
   "metadata": {},
   "outputs": [],
   "source": []
  }
 ],
 "metadata": {
  "kernelspec": {
   "display_name": "Python 3",
   "language": "python",
   "name": "python3"
  },
  "language_info": {
   "codemirror_mode": {
    "name": "ipython",
    "version": 3
   },
   "file_extension": ".py",
   "mimetype": "text/x-python",
   "name": "python",
   "nbconvert_exporter": "python",
   "pygments_lexer": "ipython3",
   "version": "3.6.6"
  }
 },
 "nbformat": 4,
 "nbformat_minor": 2
}
